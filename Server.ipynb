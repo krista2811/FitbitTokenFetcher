{
 "cells": [
  {
   "cell_type": "code",
   "execution_count": 1,
   "metadata": {},
   "outputs": [
    {
     "name": "stdout",
     "output_type": "stream",
     "text": [
      "Requirement already satisfied: flask in /usr/local/lib/python3.7/site-packages (1.1.1)\n",
      "Requirement already satisfied: Werkzeug>=0.15 in /usr/local/lib/python3.7/site-packages (from flask) (0.16.0)\n",
      "Requirement already satisfied: Jinja2>=2.10.1 in /usr/local/lib/python3.7/site-packages (from flask) (2.10.3)\n",
      "Requirement already satisfied: itsdangerous>=0.24 in /usr/local/lib/python3.7/site-packages (from flask) (1.1.0)\n",
      "Requirement already satisfied: click>=5.1 in /usr/local/lib/python3.7/site-packages (from flask) (7.0)\n",
      "Requirement already satisfied: MarkupSafe>=0.23 in /usr/local/lib/python3.7/site-packages (from Jinja2>=2.10.1->flask) (1.1.1)\n",
      "Requirement already satisfied: flask_restful in /usr/local/lib/python3.7/site-packages (0.3.7)\n",
      "Requirement already satisfied: pytz in /usr/local/lib/python3.7/site-packages (from flask_restful) (2019.3)\n",
      "Requirement already satisfied: aniso8601>=0.82 in /usr/local/lib/python3.7/site-packages (from flask_restful) (8.0.0)\n",
      "Requirement already satisfied: Flask>=0.8 in /usr/local/lib/python3.7/site-packages (from flask_restful) (1.1.1)\n",
      "Requirement already satisfied: six>=1.3.0 in /usr/local/lib/python3.7/site-packages (from flask_restful) (1.13.0)\n",
      "Requirement already satisfied: Werkzeug>=0.15 in /usr/local/lib/python3.7/site-packages (from Flask>=0.8->flask_restful) (0.16.0)\n",
      "Requirement already satisfied: Jinja2>=2.10.1 in /usr/local/lib/python3.7/site-packages (from Flask>=0.8->flask_restful) (2.10.3)\n",
      "Requirement already satisfied: itsdangerous>=0.24 in /usr/local/lib/python3.7/site-packages (from Flask>=0.8->flask_restful) (1.1.0)\n",
      "Requirement already satisfied: click>=5.1 in /usr/local/lib/python3.7/site-packages (from Flask>=0.8->flask_restful) (7.0)\n",
      "Requirement already satisfied: MarkupSafe>=0.23 in /usr/local/lib/python3.7/site-packages (from Jinja2>=2.10.1->Flask>=0.8->flask_restful) (1.1.1)\n",
      "Requirement already satisfied: requests-oauthlib==1.1.0 in /usr/local/lib/python3.7/site-packages (1.1.0)\n",
      "Requirement already satisfied: oauthlib<3.0.0,>=2.1.0 in /usr/local/lib/python3.7/site-packages (from requests-oauthlib==1.1.0) (2.1.0)\n",
      "Requirement already satisfied: requests>=2.0.0 in /usr/local/lib/python3.7/site-packages (from requests-oauthlib==1.1.0) (2.22.0)\n",
      "Requirement already satisfied: urllib3!=1.25.0,!=1.25.1,<1.26,>=1.21.1 in /usr/local/lib/python3.7/site-packages (from requests>=2.0.0->requests-oauthlib==1.1.0) (1.25.7)\n",
      "Requirement already satisfied: idna<2.9,>=2.5 in /usr/local/lib/python3.7/site-packages (from requests>=2.0.0->requests-oauthlib==1.1.0) (2.8)\n",
      "Requirement already satisfied: certifi>=2017.4.17 in /usr/local/lib/python3.7/site-packages (from requests>=2.0.0->requests-oauthlib==1.1.0) (2019.9.11)\n",
      "Requirement already satisfied: chardet<3.1.0,>=3.0.2 in /usr/local/lib/python3.7/site-packages (from requests>=2.0.0->requests-oauthlib==1.1.0) (3.0.4)\n",
      "Requirement already satisfied: oauthlib==2.1.0 in /usr/local/lib/python3.7/site-packages (2.1.0)\n",
      "Requirement already satisfied: xlrd in /usr/local/lib/python3.7/site-packages (1.2.0)\n",
      "Requirement already satisfied: xlwt in /usr/local/lib/python3.7/site-packages (1.3.0)\n"
     ]
    }
   ],
   "source": [
    "!pip install flask\n",
    "!pip install flask_restful\n",
    "!pip install requests-oauthlib==1.1.0\n",
    "!pip install oauthlib==2.1.0\n",
    "!pip install xlrd\n",
    "!pip install xlwt"
   ]
  },
  {
   "cell_type": "markdown",
   "metadata": {},
   "source": [
    "### Basic Setup"
   ]
  },
  {
   "cell_type": "code",
   "execution_count": 2,
   "metadata": {},
   "outputs": [],
   "source": [
    "from flask import Flask, render_template, request, redirect, url_for, Response\n",
    "from flask_restful import Resource, Api, reqparse\n",
    "import sys\n",
    "\n",
    "from fitbit.api import Fitbit\n",
    "from oauthlib.oauth2.rfc6749.errors import MismatchingStateError, MissingTokenError, InvalidClientError\n",
    "\n",
    "import pandas as pd \n",
    "import numpy as np\n",
    "import datetime\n",
    "from datetime import timedelta  \n",
    "import time\n",
    "import threading\n",
    "\n",
    "from fetchHelper import DatabaseFactory"
   ]
  },
  {
   "cell_type": "markdown",
   "metadata": {},
   "source": [
    "### Flask Web Server setting\n",
    "---\n",
    "Constructing Fitbit Application Client. \n",
    "\n",
    "1. CLIENT_ID: client id of fitbit app (see manage app in dev.fitbit.com)\n",
    "2. CLIENT_SECRET: client secret of fitbit app\n",
    "3. REDIRECT_URI: redirection url set on fitbit app "
   ]
  },
  {
   "cell_type": "code",
   "execution_count": 3,
   "metadata": {},
   "outputs": [
    {
     "name": "stdout",
     "output_type": "stream",
     "text": [
      "https://fitbit.run-us-west1.goorm.io/auth\n"
     ]
    }
   ],
   "source": [
    "app = Flask(__name__)\n",
    "api = Api(app)\n",
    "\n",
    "CLIENT_ID = r'22BDG9'\n",
    "CLIENT_SECRET = r'c8f4b83a7f2b20602e4dc1006221395a'\n",
    "REDIRECT_URI = \"https://fitbit.run-us-west1.goorm.io/auth\"\n",
    "\n",
    "class OAuth2Server:\n",
    "    def __init__(self, client_id, client_secret, redirect_uri=REDIRECT_URI):\n",
    "        self.success_html = \"\"\"\n",
    "            <h1>You are now authorized to access the Fitbit API!</h1>\n",
    "            <br/><h3>You can close this window</h3>\"\"\"\n",
    "        \n",
    "        self.failure_html = \"\"\"\n",
    "            <h1>ERROR: %s</h1><br/><h3>You can close this window</h3>%s\"\"\"\n",
    "\n",
    "        self.fitbit = Fitbit(\n",
    "            client_id,\n",
    "            client_secret,\n",
    "            redirect_uri=redirect_uri,\n",
    "            timeout=10,\n",
    "        )\n",
    "        \n",
    "        print(redirect_uri)\n",
    "    \n",
    "    def auth_url(self):\n",
    "        print(self.fitbit.client.authorize_token_url())\n",
    "        return self.fitbit.client.authorize_token_url()\n",
    "    \n",
    "    def browser_authorize(self):\n",
    "        app.run(host=\"0.0.0.0\", threaded=True)\n",
    "\n",
    "server = OAuth2Server(CLIENT_ID, CLIENT_SECRET)\n",
    "auth2_client = None\n",
    "auth2_client_new = None\n"
   ]
  },
  {
   "cell_type": "code",
   "execution_count": 4,
   "metadata": {},
   "outputs": [],
   "source": [
    "@app.route('/', methods=['GET'])\n",
    "def index():\n",
    "    url, _ = server.auth_url()\n",
    "    print(url)\n",
    "    \n",
    "#     return url\n",
    "    return redirect(url, code=301)\n",
    "\n",
    "@app.route('/auth', methods=['GET'])\n",
    "def auth():\n",
    "    code = request.args.get('code', type=\n",
    "                           str)\n",
    "    state = request.args.get('state', type=str)\n",
    "    error = request.args.get('error', type=str)\n",
    "    \n",
    "#     return code\n",
    "    if code:\n",
    "        try:\n",
    "            token = server.fitbit.client.fetch_access_token(code)\n",
    "            ACCESS_TOKEN = str(server.fitbit.client.session.token['access_token'])\n",
    "            REFRESH_TOKEN = str(server.fitbit.client.session.token['refresh_token'])\n",
    "            \n",
    "            ##Build Auth Clients\n",
    "            auth2_client = Fitbit(CLIENT_ID, CLIENT_SECRET, oauth2=True, access_token=ACCESS_TOKEN, refresh_token=REFRESH_TOKEN, system='en_GB')\n",
    "\n",
    "            #NEed this seeparately because version 1 doesn't give sleep breakdown\n",
    "            auth2_client_new = Fitbit(CLIENT_ID, CLIENT_SECRET, oauth2=True, access_token=ACCESS_TOKEN, refresh_token=REFRESH_TOKEN, system='en_GB')\n",
    "            auth2_client_new.API_VERSION = 1.2\n",
    "            token = Token(ACCESS_TOKEN, REFRESH_TOKEN)\n",
    "            tokenQueue.put(token)\n",
    "            tokenQueue.printAll()\n",
    "            \n",
    "\n",
    "            dbFactory = DatabaseFactory('data/database_main.xls', auth2_client, auth2_client_new)\n",
    "            database = dbFactory.connectAndLoadDb()\n",
    "            \n",
    "            \n",
    "            run_check(database, dbFactory)\n",
    "            return \"succeed\"\n",
    "        except MissingTokenError:\n",
    "            error = server._fmt_failure(\n",
    "                'Missing access token parameter.</br>Please check that '\n",
    "                'you are using the correct client_secret')\n",
    "        except MismatchingStateError:\n",
    "            error = server._fmt_failure('CSRF Warning! Mismatching state')\n",
    "#         except InvalidClientError:\n",
    "#             return code\n"
   ]
  },
  {
   "cell_type": "code",
   "execution_count": 5,
   "metadata": {},
   "outputs": [
    {
     "ename": "NameError",
     "evalue": "name 'TokenQueue' is not defined",
     "output_type": "error",
     "traceback": [
      "\u001b[0;31m---------------------------------------------------------------------------\u001b[0m",
      "\u001b[0;31mNameError\u001b[0m                                 Traceback (most recent call last)",
      "\u001b[0;32m<ipython-input-5-9e6b7cd57760>\u001b[0m in \u001b[0;36m<module>\u001b[0;34m\u001b[0m\n\u001b[0;32m----> 1\u001b[0;31m \u001b[0mtokenQueue\u001b[0m \u001b[0;34m=\u001b[0m \u001b[0mTokenQueue\u001b[0m\u001b[0;34m(\u001b[0m\u001b[0;34m)\u001b[0m\u001b[0;34m;\u001b[0m\u001b[0;34m\u001b[0m\u001b[0;34m\u001b[0m\u001b[0m\n\u001b[0m\u001b[1;32m      2\u001b[0m \u001b[0;34m\u001b[0m\u001b[0m\n\u001b[1;32m      3\u001b[0m \u001b[0mserver\u001b[0m\u001b[0;34m.\u001b[0m\u001b[0mbrowser_authorize\u001b[0m\u001b[0;34m(\u001b[0m\u001b[0;34m)\u001b[0m\u001b[0;34m\u001b[0m\u001b[0;34m\u001b[0m\u001b[0m\n\u001b[1;32m      4\u001b[0m \u001b[0;34m\u001b[0m\u001b[0m\n\u001b[1;32m      5\u001b[0m \u001b[0mACCESS_TOKEN\u001b[0m \u001b[0;34m=\u001b[0m \u001b[0mstr\u001b[0m\u001b[0;34m(\u001b[0m\u001b[0mserver\u001b[0m\u001b[0;34m.\u001b[0m\u001b[0mfitbit\u001b[0m\u001b[0;34m.\u001b[0m\u001b[0mclient\u001b[0m\u001b[0;34m.\u001b[0m\u001b[0msession\u001b[0m\u001b[0;34m.\u001b[0m\u001b[0mtoken\u001b[0m\u001b[0;34m[\u001b[0m\u001b[0;34m'access_token'\u001b[0m\u001b[0;34m]\u001b[0m\u001b[0;34m)\u001b[0m\u001b[0;34m\u001b[0m\u001b[0;34m\u001b[0m\u001b[0m\n",
      "\u001b[0;31mNameError\u001b[0m: name 'TokenQueue' is not defined"
     ]
    }
   ],
   "source": [
    "tokenQueue = TokenQueue();\n",
    "\n",
    "server.browser_authorize()\n",
    "\n",
    "ACCESS_TOKEN = str(server.fitbit.client.session.token['access_token'])\n",
    "REFRESH_TOKEN = str(server.fitbit.client.session.token['refresh_token'])\n",
    "\n",
    "print(ACCESS_TOKEN, REFRESH_TOKEN)"
   ]
  },
  {
   "cell_type": "markdown",
   "metadata": {},
   "source": [
    "## Helpers\n",
    "---\n",
    "### Helpers for user token queue"
   ]
  },
  {
   "cell_type": "code",
   "execution_count": null,
   "metadata": {},
   "outputs": [],
   "source": [
    "from queue import Queue"
   ]
  },
  {
   "cell_type": "code",
   "execution_count": null,
   "metadata": {},
   "outputs": [],
   "source": [
    "class Token:\n",
    "    def __init__(self, token, refreshToken):\n",
    "        self.token = token\n",
    "        self.refreshToken = refreshToken\n",
    "\n",
    "    def __str__(self):\n",
    "        return \"Token: {}, Refresh Token: {}\".format(self.token, self.refreshToken)\n",
    "\n",
    "class TokenQueue:\n",
    "    def __init__(self):\n",
    "        self.queue = Queue()\n",
    "        self.waitQueue = Queue()\n",
    "        \n",
    "    def put(self, token):\n",
    "        self.queue.put_nowait(token)\n",
    "    \n",
    "    def get(self):\n",
    "        self.queue.get_nowait()\n",
    "        \n",
    "    def getWait(self):\n",
    "        self.waitQueue.get_nowait()\n",
    "    \n",
    "    def putWait(self, token):\n",
    "        self.waitQueue.put_nowait(token)\n",
    "    \n",
    "    def printAll(self):\n",
    "        for i in range(self.queue.qsize()):\n",
    "            t = self.queue.get_nowait()\n",
    "            print(t)\n",
    "            self.queue.put_nowait(t)\n",
    "            \n",
    "def run_check(database, dbFactory):\n",
    "    threading.Timer(60.0, run_check, [database, dbFactory]).start()\n",
    "    database = dbFactory.fetchData(database)\n",
    "    dbFactory.writeDbToExcelFile(database)\n"
   ]
  },
  {
   "cell_type": "markdown",
   "metadata": {},
   "source": []
  },
  {
   "cell_type": "code",
   "execution_count": null,
   "metadata": {},
   "outputs": [],
   "source": []
  },
  {
   "cell_type": "code",
   "execution_count": null,
   "metadata": {},
   "outputs": [],
   "source": []
  }
 ],
 "metadata": {
  "kernelspec": {
   "display_name": "Python 3",
   "language": "python",
   "name": "python3"
  },
  "language_info": {
   "codemirror_mode": {
    "name": "ipython",
    "version": 3
   },
   "file_extension": ".py",
   "mimetype": "text/x-python",
   "name": "python",
   "nbconvert_exporter": "python",
   "pygments_lexer": "ipython3",
   "version": "3.7.4"
  }
 },
 "nbformat": 4,
 "nbformat_minor": 2
}
