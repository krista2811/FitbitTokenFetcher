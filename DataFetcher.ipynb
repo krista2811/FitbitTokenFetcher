{
 "cells": [
  {
   "cell_type": "markdown",
   "metadata": {},
   "source": [
    "### Environment setup"
   ]
  },
  {
   "cell_type": "code",
   "execution_count": null,
   "metadata": {},
   "outputs": [],
   "source": [
    "# flask server setup import\n",
    "import sys\n",
    "\n",
    "# fitbit api linker setup\n",
    "from fitbit.api import Fitbit\n",
    "from queue import Queue\n",
    "\n",
    "# data fetching pandas / np setup\n",
    "import pandas as pd \n",
    "import numpy as np\n",
    "import json\n",
    "import datetime\n",
    "from datetime import timedelta  \n",
    "import time\n",
    "import threading"
   ]
  },
  {
   "cell_type": "code",
   "execution_count": null,
   "metadata": {},
   "outputs": [],
   "source": [
    "import os\n",
    "\n",
    "# static variables.\n",
    "TOKEN_F_NAME = r'data/auth.json'\n",
    "CLIENT_ID = os.environ['ID']\n",
    "CLIENT_SECRET = os.environ['SECRET']\n",
    "\n",
    "def getToken():\n",
    "    token_f = open(TOKEN_F_NAME)\n",
    "    token = json.loads(token_f.read())\n",
    "    token_f.close()\n",
    "    return token\n",
    "\n",
    "def getTokenList(_tokenDict):\n",
    "    tokenList = []\n",
    "    for key, val in _tokenDict.items():\n",
    "        val['userID'] = key\n",
    "        tokenList.append(val)\n",
    "    return tokenList\n",
    "    \n",
    "def writeToken(tokenData):\n",
    "    token_f = open(TOKEN_F_NAME, 'w')\n",
    "    json.dump(tokenData, token_f)\n",
    "    token_f.close()\n",
    "\n",
    "tokenDict = getToken()\n",
    "print(tokenDict)"
   ]
  }
 ],
 "metadata": {
  "kernelspec": {
   "display_name": "Python 3",
   "language": "python",
   "name": "python3"
  },
  "language_info": {
   "codemirror_mode": {
    "name": "ipython",
    "version": 3
   },
   "file_extension": ".py",
   "mimetype": "text/x-python",
   "name": "python",
   "nbconvert_exporter": "python",
   "pygments_lexer": "ipython3",
   "version": "3.7.3"
  }
 },
 "nbformat": 4,
 "nbformat_minor": 2
}
