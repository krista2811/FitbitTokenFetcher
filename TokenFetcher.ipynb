{
 "cells": [
  {
   "cell_type": "markdown",
   "metadata": {},
   "source": [
    "# Basic setup\n",
    "---\n",
    "dependency codes for flask."
   ]
  },
  {
   "cell_type": "code",
   "execution_count": 1,
   "metadata": {},
   "outputs": [],
   "source": [
    "# !pip install flask\n",
    "# !pip install flask_restful\n",
    "# !pip install requests-oauthlib==1.1.0\n",
    "# !pip install oauthlib==2.1.0\n",
    "# !pip install xlrd\n",
    "# !pip install xlwt"
   ]
  },
  {
   "cell_type": "code",
   "execution_count": 2,
   "metadata": {},
   "outputs": [],
   "source": [
    "# flask server setup import\n",
    "from flask import Flask, render_template, request, redirect, url_for, Response\n",
    "from flask_restful import Resource, Api, reqparse\n",
    "import sys\n",
    "\n",
    "# fitbit api linker setup\n",
    "from fitbit.api import Fitbit\n",
    "from oauthlib.oauth2.rfc6749.errors import MismatchingStateError, MissingTokenError, InvalidClientError\n",
    "from queue import Queue\n",
    "\n",
    "# data fetching pandas / np setup\n",
    "import pandas as pd \n",
    "import numpy as np\n",
    "import json\n",
    "import datetime\n",
    "from datetime import timedelta  \n",
    "import time\n",
    "import threading"
   ]
  },
  {
   "cell_type": "markdown",
   "metadata": {},
   "source": [
    "## Flask Web Server setting\n",
    "---\n",
    "Constructing Fitbit Application Client. \n",
    "\n",
    "1. CLIENT_ID: client id of fitbit app (see manage app in dev.fitbit.com)\n",
    "2. CLIENT_SECRET: client secret of fitbit app\n",
    "3. REDIRECT_URI: redirection url set on fitbit app "
   ]
  },
  {
   "cell_type": "code",
   "execution_count": 3,
   "metadata": {},
   "outputs": [],
   "source": [
    "TOKEN_F_NAME = r'data/auth.json'\n",
    "\n",
    "def get_token():\n",
    "    _token_f = open(TOKEN_F_NAME)\n",
    "    token = json.loads(_token_f.read())\n",
    "    _token_f.close()\n",
    "    return token\n",
    "\n",
    "def get_token_list(token_dict):\n",
    "    token_list = []\n",
    "    for key, val in token_dict.items():\n",
    "        val['userID'] = key\n",
    "        token_list.append(val)\n",
    "    return token_list\n",
    "    \n",
    "def write_token(token_data):\n",
    "    _token_f = open(TOKEN_F_NAME, 'w')\n",
    "    json.dump(token_data, _token_f)\n",
    "    _token_f.close()"
   ]
  },
  {
   "cell_type": "code",
   "execution_count": 4,
   "metadata": {},
   "outputs": [
    {
     "name": "stdout",
     "output_type": "stream",
     "text": [
      "https://fitbit.run-us-west1.goorm.io/auth\n"
     ]
    }
   ],
   "source": [
    "import os\n",
    "\n",
    "# static variables.\n",
    "CLIENT_ID = os.environ['ID']\n",
    "CLIENT_SECRET = os.environ['SECRET']\n",
    "REDIRECT_URI = \"https://fitbit.run-us-west1.goorm.io/auth\"\n",
    "\n",
    "class OAuth2Server:\n",
    "    def __init__(self, client_id, client_secret, redirect_uri):\n",
    "        self.success_html = \"\"\"\n",
    "        <hr> You are now authorized to access the Fitbit API!</h3>\n",
    "        <br/><h3> You can close this window now </h3>\"\"\"\n",
    "        \n",
    "        self.failure_html = \"\"\"\n",
    "        <h1> ERROR: </h1><br/><h3> You can close the window now\"\"\"\n",
    "        self.fitbit = Fitbit(\n",
    "            client_id,\n",
    "            client_secret,\n",
    "            redirect_uri=redirect_uri,\n",
    "            timeout=10,\n",
    "        )\n",
    "        \n",
    "        print(redirect_uri)\n",
    "    \n",
    "    def auth_url(self):\n",
    "        print(self.fitbit.client.authorize_token_url())\n",
    "        return self.fitbit.client.authorize_token_url()\n",
    "    \n",
    "app = Flask(__name__)\n",
    "api = Api(app)\n",
    "server = OAuth2Server(CLIENT_ID, CLIENT_SECRET, REDIRECT_URI)"
   ]
  },
  {
   "cell_type": "code",
   "execution_count": 5,
   "metadata": {},
   "outputs": [],
   "source": [
    "# APIs\n",
    "@app.route('/', methods=['GET'])\n",
    "def index():\n",
    "    token_dict = get_token()\n",
    "#     return url\n",
    "    return render_template('index.html', url='add_user', users=get_token_list(token_dict))\n",
    "\n",
    "@app.route('/add_user', methods=['GET'])\n",
    "def add():\n",
    "    url, _ = server.auth_url()\n",
    "    print(url)\n",
    "    \n",
    "#     return url\n",
    "    return redirect(url, code=301)\n",
    "\n",
    "@app.route('/auth', methods=['GET'])\n",
    "def auth():\n",
    "    code = request.args.get('code', type=\n",
    "                           str)\n",
    "    state = request.args.get('state', type=str)\n",
    "    error = request.args.get('error', type=str)\n",
    "    \n",
    "#     return code\n",
    "    if code:\n",
    "        try:\n",
    "            token_dict = get_token()\n",
    "            token = server.fitbit.client.fetch_access_token(code)\n",
    "            ACCESS_TOKEN = str(server.fitbit.client.session.token['access_token'])\n",
    "            REFRESH_TOKEN = str(server.fitbit.client.session.token['refresh_token'])\n",
    "            \n",
    "            ##Build Auth Clients\n",
    "            auth2_client = Fitbit(CLIENT_ID, CLIENT_SECRET, oauth2=True, access_token=ACCESS_TOKEN, refresh_token=REFRESH_TOKEN, system='en_GB')\n",
    "\n",
    "            #NEed this seeparately because version 1 doesn't give sleep breakdown\n",
    "            auth2_client_new = Fitbit(CLIENT_ID, CLIENT_SECRET, oauth2=True, access_token=ACCESS_TOKEN, refresh_token=REFRESH_TOKEN, system='en_GB')\n",
    "            auth2_client_new.API_VERSION = 1.2\n",
    "            profile = auth2_client.user_profile_get()\n",
    "            print(profile)\n",
    "            user_ID = profile['user']['encodedId']\n",
    "            user_name = profile['user']['fullName']\n",
    "            token = {\n",
    "                'userName': user_name,\n",
    "                'token': ACCESS_TOKEN,\n",
    "                'refreshToken': REFRESH_TOKEN\n",
    "            }\n",
    "            \n",
    "            token_dict[user_ID] = token\n",
    "            print(token_dict)\n",
    "            write_token(token_dict)\n",
    "            return render_template('auth.html')\n",
    "        \n",
    "        except MissingTokenError:\n",
    "            error = server._fmt_failure(\n",
    "                'Missing access token parameter.</br>Please check that '\n",
    "                'you are using the correct client_secret')\n",
    "        except MismatchingStateError:\n",
    "            error = server._fmt_failure('CSRF Warning! Mismatching state')\n",
    "#         except InvalidClientError:\n",
    "#             return code\n",
    "\n",
    "@app.route('/fetch_test', methods=['GET'])\n",
    "def fetch_test():\n",
    "    token_dict = get_token()\n",
    "    #temp for implementation\n",
    "    ##Build Auth Clients\n",
    "    ACCESS_TOKEN = list(token_dict.values())[1]['token']\n",
    "    REFRESH_TOKEN = list(token_dict.values())[1]['refreshToken']\n",
    "    auth2_client = Fitbit(CLIENT_ID, CLIENT_SECRET, oauth2=True, access_token=ACCESS_TOKEN, refresh_token=REFRESH_TOKEN, system='en_GB')\n",
    "\n",
    "    #NEed this seeparately because version 1 doesn't give sleep breakdown\n",
    "    auth2_client_new = Fitbit(CLIENT_ID, CLIENT_SECRET, oauth2=True, access_token=ACCESS_TOKEN, refresh_token=REFRESH_TOKEN, system='en_GB')\n",
    "    auth2_client_new.API_VERSION = 1.2\n",
    "    return auth2_client.user_profile_get()"
   ]
  },
  {
   "cell_type": "code",
   "execution_count": null,
   "metadata": {},
   "outputs": [
    {
     "name": "stdout",
     "output_type": "stream",
     "text": [
      " * Serving Flask app \"__main__\" (lazy loading)\n",
      " * Environment: production\n",
      "   WARNING: This is a development server. Do not use it in a production deployment.\n",
      "   Use a production WSGI server instead.\n",
      " * Debug mode: off\n"
     ]
    },
    {
     "name": "stderr",
     "output_type": "stream",
     "text": [
      " * Running on http://0.0.0.0:5000/ (Press CTRL+C to quit)\n",
      "172.17.0.1 - - [26/Dec/2019 07:44:06] \"\u001b[37mGET / HTTP/1.1\u001b[0m\" 200 -\n",
      "172.17.0.1 - - [26/Dec/2019 07:48:37] \"\u001b[37mGET / HTTP/1.1\u001b[0m\" 200 -\n",
      "172.17.0.1 - - [26/Dec/2019 07:48:39] \"\u001b[37mGET / HTTP/1.1\u001b[0m\" 200 -\n"
     ]
    }
   ],
   "source": [
    "app.run(host=\"0.0.0.0\", threaded=True)"
   ]
  },
  {
   "cell_type": "code",
   "execution_count": null,
   "metadata": {},
   "outputs": [],
   "source": []
  }
 ],
 "metadata": {
  "kernelspec": {
   "display_name": "Python 3",
   "language": "python",
   "name": "python3"
  },
  "language_info": {
   "codemirror_mode": {
    "name": "ipython",
    "version": 3
   },
   "file_extension": ".py",
   "mimetype": "text/x-python",
   "name": "python",
   "nbconvert_exporter": "python",
   "pygments_lexer": "ipython3",
   "version": "3.7.3"
  }
 },
 "nbformat": 4,
 "nbformat_minor": 2
}
